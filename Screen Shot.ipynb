{
 "cells": [
  {
   "cell_type": "code",
   "execution_count": 1,
   "id": "1db63b78",
   "metadata": {},
   "outputs": [],
   "source": [
    "import pyautogui"
   ]
  },
  {
   "cell_type": "code",
   "execution_count": 2,
   "id": "0b5f3c65",
   "metadata": {},
   "outputs": [],
   "source": [
    "#myScreenshot = pyautogui.screenshot()\n",
    "#myScreenshot.save(r'C:\\Users\\Ahmed\\Downloads\\Apple\\screenshot1.jpg')"
   ]
  },
  {
   "cell_type": "code",
   "execution_count": 21,
   "id": "f1f69407",
   "metadata": {},
   "outputs": [
    {
     "name": "stdout",
     "output_type": "stream",
     "text": [
      "2\n"
     ]
    }
   ],
   "source": [
    "#import os, os.path\n",
    "\n",
    "#DIR = r'C:\\Users\\Ahmed\\Downloads\\Apple\\screenshot'\n",
    "#print(len([name for name in os.listdir(DIR) if os.path.isfile(os.path.join(DIR, name))]))"
   ]
  },
  {
   "cell_type": "code",
   "execution_count": 40,
   "id": "f0ce927d",
   "metadata": {},
   "outputs": [],
   "source": [
    "time.sleep(10)\n",
    "\n",
    "for i in range(6):\n",
    "    ss = pyautogui.screenshot()\n",
    "\n",
    "    ss.save(fr'C:\\Users\\Ahmed\\Downloads\\Apple\\screenshot\\{i}.jpg')\n",
    "\n",
    "    time.sleep(60)"
   ]
  }
 ],
 "metadata": {
  "kernelspec": {
   "display_name": "Python 3 (ipykernel)",
   "language": "python",
   "name": "python3"
  },
  "language_info": {
   "codemirror_mode": {
    "name": "ipython",
    "version": 3
   },
   "file_extension": ".py",
   "mimetype": "text/x-python",
   "name": "python",
   "nbconvert_exporter": "python",
   "pygments_lexer": "ipython3",
   "version": "3.9.12"
  }
 },
 "nbformat": 4,
 "nbformat_minor": 5
}
